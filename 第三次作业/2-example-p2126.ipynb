{
 "cells": [
  {
   "cell_type": "code",
   "execution_count": 1,
   "metadata": {
    "collapsed": true
   },
   "outputs": [],
   "source": [
    "import numpy as np\n",
    "names = np.array(['王微', '肖良英', '方绮雯', '刘旭阳','钱易铭'])\n",
    "subjects = np.array(['Math', 'English', 'Python', 'Chinese','Art', 'Database', 'Physics'])\n",
    "scores = np.array([[70,85,77,90,82,84,89],[60,64,80,75,80,92,90],[90,93,88,87,86,90,91],[80,82,91,88,83,86,80],[88,72,78,90,91,73,80]])"
   ]
  },
  {
   "cell_type": "code",
   "execution_count": 2,
   "metadata": {
    "collapsed": false
   },
   "outputs": [
    {
     "name": "stdout",
     "output_type": "stream",
     "text": [
      "[[75 90 82 95 87 89 94]\n",
      " [65 69 85 80 85 97 95]\n",
      " [95 98 93 92 91 95 96]\n",
      " [85 87 96 93 88 91 85]\n",
      " [93 77 83 95 96 78 85]]\n"
     ]
    }
   ],
   "source": [
    "print( scores + 5 )"
   ]
  },
  {
   "cell_type": "code",
   "execution_count": 3,
   "metadata": {
    "collapsed": false
   },
   "outputs": [
    {
     "data": {
      "text/plain": [
       "array([[73, 89, 82, 93, 88, 91, 91],\n",
       "       [63, 68, 85, 78, 86, 99, 92],\n",
       "       [93, 97, 93, 90, 92, 97, 93],\n",
       "       [83, 86, 96, 91, 89, 93, 82],\n",
       "       [91, 76, 83, 93, 97, 80, 82]])"
      ]
     },
     "execution_count": 3,
     "metadata": {},
     "output_type": "execute_result"
    }
   ],
   "source": [
    "bonus = np.array([3,4,5,3,6,7,2])\n",
    "a=scores + bonus\n",
    "a"
   ]
  },
  {
   "cell_type": "code",
   "execution_count": 4,
   "metadata": {
    "collapsed": false
   },
   "outputs": [
    {
     "data": {
      "text/plain": [
       "array([64])"
      ]
     },
     "execution_count": 4,
     "metadata": {},
     "output_type": "execute_result"
    }
   ],
   "source": [
    "scores[names == '肖良英', subjects == 'English']"
   ]
  },
  {
   "cell_type": "code",
   "execution_count": 5,
   "metadata": {
    "collapsed": false
   },
   "outputs": [
    {
     "data": {
      "text/plain": [
       "array([69])"
      ]
     },
     "execution_count": 5,
     "metadata": {},
     "output_type": "execute_result"
    }
   ],
   "source": [
    "scores[names == '肖良英', subjects == 'English'] + 5"
   ]
  },
  {
   "cell_type": "code",
   "execution_count": 6,
   "metadata": {
    "collapsed": false
   },
   "outputs": [
    {
     "data": {
      "text/plain": [
       "array([[ 7.,  8.,  7.,  9.,  8.,  8.,  8.],\n",
       "       [ 6.,  6.,  8.,  7.,  8.,  9.,  9.],\n",
       "       [ 9.,  9.,  8.,  8.,  8.,  9.,  9.],\n",
       "       [ 8.,  8.,  9.,  8.,  8.,  8.,  8.],\n",
       "       [ 8.,  7.,  7.,  9.,  9.,  7.,  8.]])"
      ]
     },
     "execution_count": 6,
     "metadata": {},
     "output_type": "execute_result"
    }
   ],
   "source": [
    "np.floor(scores/10)"
   ]
  },
  {
   "cell_type": "code",
   "execution_count": 7,
   "metadata": {
    "collapsed": false
   },
   "outputs": [
    {
     "data": {
      "text/plain": [
       "array([[67, 82, 74, 87, 79, 81, 86],\n",
       "       [57, 61, 77, 72, 77, 89, 87],\n",
       "       [87, 90, 85, 84, 83, 87, 88],\n",
       "       [77, 79, 88, 85, 80, 83, 77],\n",
       "       [85, 69, 75, 87, 88, 70, 77]])"
      ]
     },
     "execution_count": 7,
     "metadata": {},
     "output_type": "execute_result"
    }
   ],
   "source": [
    "np.subtract(scores, 3)"
   ]
  },
  {
   "cell_type": "code",
   "execution_count": 8,
   "metadata": {
    "collapsed": false
   },
   "outputs": [
    {
     "data": {
      "text/plain": [
       "array([388, 396, 414, 430, 422, 425, 430])"
      ]
     },
     "execution_count": 8,
     "metadata": {},
     "output_type": "execute_result"
    }
   ],
   "source": [
    "scores.sum(axis = 0)"
   ]
  },
  {
   "cell_type": "code",
   "execution_count": 9,
   "metadata": {
    "collapsed": false
   },
   "outputs": [
    {
     "data": {
      "text/plain": [
       "82.428571428571431"
      ]
     },
     "execution_count": 9,
     "metadata": {},
     "output_type": "execute_result"
    }
   ],
   "source": [
    "scores[names == '王微'].mean() "
   ]
  },
  {
   "cell_type": "code",
   "execution_count": 10,
   "metadata": {
    "collapsed": false
   },
   "outputs": [
    {
     "ename": "SyntaxError",
     "evalue": "unexpected EOF while parsing (<ipython-input-10-b34dd7d91454>, line 1)",
     "output_type": "error",
     "traceback": [
      "\u001b[0;36m  File \u001b[0;32m\"<ipython-input-10-b34dd7d91454>\"\u001b[0;36m, line \u001b[0;32m1\u001b[0m\n\u001b[0;31m    names[ scores[:,subjects == 'English'].argmax()\u001b[0m\n\u001b[0m                                                   ^\u001b[0m\n\u001b[0;31mSyntaxError\u001b[0m\u001b[0;31m:\u001b[0m unexpected EOF while parsing\n"
     ]
    }
   ],
   "source": [
    "names[ scores[:,subjects == 'English'].argmax()"
   ]
  },
  {
   "cell_type": "code",
   "execution_count": 11,
   "metadata": {
    "collapsed": false
   },
   "outputs": [
    {
     "data": {
      "text/plain": [
       "'方绮雯'"
      ]
     },
     "execution_count": 11,
     "metadata": {},
     "output_type": "execute_result"
    }
   ],
   "source": [
    "names[ scores[:,subjects == 'English'].argmax()]"
   ]
  },
  {
   "cell_type": "code",
   "execution_count": 12,
   "metadata": {
    "collapsed": false
   },
   "outputs": [
    {
     "data": {
      "text/plain": [
       "array([5, 2, 2, 2, 4, 1, 3, 0, 1, 1])"
      ]
     },
     "execution_count": 12,
     "metadata": {},
     "output_type": "execute_result"
    }
   ],
   "source": [
    "np.random.randint(0,6,10)"
   ]
  },
  {
   "cell_type": "code",
   "execution_count": 13,
   "metadata": {
    "collapsed": false
   },
   "outputs": [
    {
     "data": {
      "text/plain": [
       "array([[0, 0, 1, 0, 1, 0],\n",
       "       [1, 0, 1, 1, 0, 1],\n",
       "       [1, 1, 1, 0, 1, 0],\n",
       "       [0, 1, 0, 0, 0, 1],\n",
       "       [0, 1, 0, 0, 1, 1]])"
      ]
     },
     "execution_count": 13,
     "metadata": {},
     "output_type": "execute_result"
    }
   ],
   "source": [
    "np.random.randint(0, 2, size = (5,6))"
   ]
  },
  {
   "cell_type": "code",
   "execution_count": 14,
   "metadata": {
    "collapsed": false
   },
   "outputs": [
    {
     "data": {
      "text/plain": [
       "array([[-1.24471277,  0.65243818,  0.70132995, -1.31650662, -2.28497848],\n",
       "       [ 1.7434326 ,  1.03326695, -0.47431116,  0.43853062,  1.13192733],\n",
       "       [ 0.44524384, -1.15265405,  0.67059969,  0.31315755,  0.66881721],\n",
       "       [-0.25272911, -1.21568247, -0.32790942,  0.67348036,  1.68521345]])"
      ]
     },
     "execution_count": 14,
     "metadata": {},
     "output_type": "execute_result"
    }
   ],
   "source": [
    "np.random.normal( 0,1, size = (4,5) )"
   ]
  },
  {
   "cell_type": "code",
   "execution_count": null,
   "metadata": {
    "collapsed": true
   },
   "outputs": [],
   "source": []
  }
 ],
 "metadata": {
  "kernelspec": {
   "display_name": "Python 3",
   "language": "python",
   "name": "python3"
  },
  "language_info": {
   "codemirror_mode": {
    "name": "ipython",
    "version": 3
   },
   "file_extension": ".py",
   "mimetype": "text/x-python",
   "name": "python",
   "nbconvert_exporter": "python",
   "pygments_lexer": "ipython3",
   "version": "3.6.0"
  }
 },
 "nbformat": 4,
 "nbformat_minor": 2
}
