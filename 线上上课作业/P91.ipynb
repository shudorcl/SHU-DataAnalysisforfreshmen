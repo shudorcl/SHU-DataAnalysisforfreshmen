{
 "cells": [
  {
   "cell_type": "markdown",
   "metadata": {},
   "source": [
    "# P91"
   ]
  },
  {
   "cell_type": "markdown",
   "metadata": {},
   "source": [
    "## 1"
   ]
  },
  {
   "cell_type": "code",
   "execution_count": 1,
   "metadata": {},
   "outputs": [],
   "source": [
    "import numpy as np\n",
    "import pandas as pd\n",
    "from sklearn.linear_model import LinearRegression\n",
    "from sklearn.externals import joblib"
   ]
  },
  {
   "cell_type": "code",
   "execution_count": 2,
   "metadata": {},
   "outputs": [],
   "source": [
    "filename='advertising.csv'\n",
    "data = pd.read_csv(filename, index_col = 0)"
   ]
  },
  {
   "cell_type": "code",
   "execution_count": 3,
   "metadata": {},
   "outputs": [
    {
     "data": {
      "text/plain": [
       "LinearRegression(copy_X=True, fit_intercept=True, n_jobs=1, normalize=False)"
      ]
     },
     "execution_count": 3,
     "metadata": {},
     "output_type": "execute_result"
    }
   ],
   "source": [
    "X = data.iloc[:,0:3].values.astype(float)\n",
    "y = data.iloc[:,3].values.astype(float)\n",
    "linreg = LinearRegression()  \n",
    "linreg.fit(X, y)"
   ]
  },
  {
   "cell_type": "code",
   "execution_count": 4,
   "metadata": {},
   "outputs": [],
   "source": [
    "from sklearn import model_selection\n",
    "X_train, X_test, y_train, y_test = model_selection.train_test_split(X, y, test_size=0.35, random_state=1)"
   ]
  },
  {
   "cell_type": "code",
   "execution_count": 5,
   "metadata": {},
   "outputs": [
    {
     "name": "stdout",
     "output_type": "stream",
     "text": [
      "The mean squar error of test with all: 2.23\n",
      "The decision coeficient of model trained with all is: 0.92 \n"
     ]
    }
   ],
   "source": [
    "from sklearn import metrics\n",
    "predict_score_all =linreg.score(X_test,y_test)\n",
    "y_test_pred_all = linreg.predict(X_test)\n",
    "test_err_all = metrics.mean_squared_error(y_test, y_test_pred_all) \n",
    "print( 'The mean squar error of test with all: {:.2f}'.format(test_err_all) )\n",
    "print('The decision coeficient of model trained with all is: {:.2f} '.format(predict_score_all) )"
   ]
  },
  {
   "cell_type": "markdown",
   "metadata": {},
   "source": [
    "由测试集得到的RMSE和R²如下"
   ]
  },
  {
   "cell_type": "markdown",
   "metadata": {},
   "source": [
    "The mean squar error of train is: 3.06"
   ]
  },
  {
   "cell_type": "markdown",
   "metadata": {},
   "source": [
    "The decision coeficient is:0.91 "
   ]
  },
  {
   "cell_type": "markdown",
   "metadata": {},
   "source": [
    "显然，RMSE更小且R²更大，故采用所有数据的模型更优"
   ]
  },
  {
   "cell_type": "markdown",
   "metadata": {},
   "source": [
    "## 2"
   ]
  },
  {
   "cell_type": "code",
   "execution_count": 6,
   "metadata": {},
   "outputs": [],
   "source": [
    "ndata=data.loc[0:100,:]"
   ]
  },
  {
   "cell_type": "code",
   "execution_count": 7,
   "metadata": {},
   "outputs": [
    {
     "data": {
      "text/plain": [
       "LinearRegression(copy_X=True, fit_intercept=True, n_jobs=1, normalize=False)"
      ]
     },
     "execution_count": 7,
     "metadata": {},
     "output_type": "execute_result"
    }
   ],
   "source": [
    "nX = ndata.iloc[:,0:3].values.astype(float)\n",
    "ny = ndata.iloc[:,3].values.astype(float)\n",
    "linregHalf = LinearRegression()  \n",
    "linregHalf.fit(nX, ny)"
   ]
  },
  {
   "cell_type": "code",
   "execution_count": 8,
   "metadata": {},
   "outputs": [
    {
     "name": "stdout",
     "output_type": "stream",
     "text": [
      "The mean squar error of test with the first 100 datas is: 2.24\n",
      "The decision coeficient of model trained with the first 100 datas is: 0.92 \n"
     ]
    }
   ],
   "source": [
    "predict_score_100 =linregHalf.score(X_test,y_test)\n",
    "y_test_pred_100 = linregHalf.predict(X_test)\n",
    "test_err_100 = metrics.mean_squared_error(y_test, y_test_pred_100) \n",
    "print( 'The mean squar error of test with the first 100 datas is: {:.2f}'.format(test_err_100) )\n",
    "print('The decision coeficient of model trained with the first 100 datas is: {:.2f} '.format(predict_score_100) )"
   ]
  },
  {
   "cell_type": "markdown",
   "metadata": {},
   "source": [
    "与200条样本的模型进行比较，R²相同但是RMSE略大，故这两个模型性能区别不大，但200条样本的模型相对更优"
   ]
  }
 ],
 "metadata": {
  "kernelspec": {
   "display_name": "Python 3",
   "language": "python",
   "name": "python3"
  },
  "language_info": {
   "codemirror_mode": {
    "name": "ipython",
    "version": 3
   },
   "file_extension": ".py",
   "mimetype": "text/x-python",
   "name": "python",
   "nbconvert_exporter": "python",
   "pygments_lexer": "ipython3",
   "version": "3.6.10"
  }
 },
 "nbformat": 4,
 "nbformat_minor": 4
}
