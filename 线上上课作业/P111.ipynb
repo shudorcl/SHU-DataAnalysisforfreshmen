{
 "cells": [
  {
   "cell_type": "markdown",
   "metadata": {},
   "source": [
    "# 葡萄酒数据集"
   ]
  },
  {
   "cell_type": "code",
   "execution_count": 2,
   "metadata": {},
   "outputs": [],
   "source": [
    "import numpy as np\n",
    "import pandas as pd"
   ]
  },
  {
   "cell_type": "code",
   "execution_count": 2,
   "metadata": {},
   "outputs": [],
   "source": [
    "data=pd.read_csv('data/wine.data',header=None)"
   ]
  },
  {
   "cell_type": "code",
   "execution_count": 3,
   "metadata": {},
   "outputs": [
    {
     "data": {
      "text/html": [
       "<div>\n",
       "<style scoped>\n",
       "    .dataframe tbody tr th:only-of-type {\n",
       "        vertical-align: middle;\n",
       "    }\n",
       "\n",
       "    .dataframe tbody tr th {\n",
       "        vertical-align: top;\n",
       "    }\n",
       "\n",
       "    .dataframe thead th {\n",
       "        text-align: right;\n",
       "    }\n",
       "</style>\n",
       "<table border=\"1\" class=\"dataframe\">\n",
       "  <thead>\n",
       "    <tr style=\"text-align: right;\">\n",
       "      <th></th>\n",
       "      <th>0</th>\n",
       "      <th>1</th>\n",
       "      <th>2</th>\n",
       "      <th>3</th>\n",
       "      <th>4</th>\n",
       "      <th>5</th>\n",
       "      <th>6</th>\n",
       "      <th>7</th>\n",
       "      <th>8</th>\n",
       "      <th>9</th>\n",
       "      <th>10</th>\n",
       "      <th>11</th>\n",
       "      <th>12</th>\n",
       "      <th>13</th>\n",
       "    </tr>\n",
       "  </thead>\n",
       "  <tbody>\n",
       "    <tr>\n",
       "      <th>0</th>\n",
       "      <td>1</td>\n",
       "      <td>14.23</td>\n",
       "      <td>1.71</td>\n",
       "      <td>2.43</td>\n",
       "      <td>15.6</td>\n",
       "      <td>127</td>\n",
       "      <td>2.80</td>\n",
       "      <td>3.06</td>\n",
       "      <td>0.28</td>\n",
       "      <td>2.29</td>\n",
       "      <td>5.64</td>\n",
       "      <td>1.04</td>\n",
       "      <td>3.92</td>\n",
       "      <td>1065</td>\n",
       "    </tr>\n",
       "    <tr>\n",
       "      <th>1</th>\n",
       "      <td>1</td>\n",
       "      <td>13.20</td>\n",
       "      <td>1.78</td>\n",
       "      <td>2.14</td>\n",
       "      <td>11.2</td>\n",
       "      <td>100</td>\n",
       "      <td>2.65</td>\n",
       "      <td>2.76</td>\n",
       "      <td>0.26</td>\n",
       "      <td>1.28</td>\n",
       "      <td>4.38</td>\n",
       "      <td>1.05</td>\n",
       "      <td>3.40</td>\n",
       "      <td>1050</td>\n",
       "    </tr>\n",
       "    <tr>\n",
       "      <th>2</th>\n",
       "      <td>1</td>\n",
       "      <td>13.16</td>\n",
       "      <td>2.36</td>\n",
       "      <td>2.67</td>\n",
       "      <td>18.6</td>\n",
       "      <td>101</td>\n",
       "      <td>2.80</td>\n",
       "      <td>3.24</td>\n",
       "      <td>0.30</td>\n",
       "      <td>2.81</td>\n",
       "      <td>5.68</td>\n",
       "      <td>1.03</td>\n",
       "      <td>3.17</td>\n",
       "      <td>1185</td>\n",
       "    </tr>\n",
       "    <tr>\n",
       "      <th>3</th>\n",
       "      <td>1</td>\n",
       "      <td>14.37</td>\n",
       "      <td>1.95</td>\n",
       "      <td>2.50</td>\n",
       "      <td>16.8</td>\n",
       "      <td>113</td>\n",
       "      <td>3.85</td>\n",
       "      <td>3.49</td>\n",
       "      <td>0.24</td>\n",
       "      <td>2.18</td>\n",
       "      <td>7.80</td>\n",
       "      <td>0.86</td>\n",
       "      <td>3.45</td>\n",
       "      <td>1480</td>\n",
       "    </tr>\n",
       "    <tr>\n",
       "      <th>4</th>\n",
       "      <td>1</td>\n",
       "      <td>13.24</td>\n",
       "      <td>2.59</td>\n",
       "      <td>2.87</td>\n",
       "      <td>21.0</td>\n",
       "      <td>118</td>\n",
       "      <td>2.80</td>\n",
       "      <td>2.69</td>\n",
       "      <td>0.39</td>\n",
       "      <td>1.82</td>\n",
       "      <td>4.32</td>\n",
       "      <td>1.04</td>\n",
       "      <td>2.93</td>\n",
       "      <td>735</td>\n",
       "    </tr>\n",
       "  </tbody>\n",
       "</table>\n",
       "</div>"
      ],
      "text/plain": [
       "   0      1     2     3     4    5     6     7     8     9     10    11    12  \\\n",
       "0   1  14.23  1.71  2.43  15.6  127  2.80  3.06  0.28  2.29  5.64  1.04  3.92   \n",
       "1   1  13.20  1.78  2.14  11.2  100  2.65  2.76  0.26  1.28  4.38  1.05  3.40   \n",
       "2   1  13.16  2.36  2.67  18.6  101  2.80  3.24  0.30  2.81  5.68  1.03  3.17   \n",
       "3   1  14.37  1.95  2.50  16.8  113  3.85  3.49  0.24  2.18  7.80  0.86  3.45   \n",
       "4   1  13.24  2.59  2.87  21.0  118  2.80  2.69  0.39  1.82  4.32  1.04  2.93   \n",
       "\n",
       "     13  \n",
       "0  1065  \n",
       "1  1050  \n",
       "2  1185  \n",
       "3  1480  \n",
       "4   735  "
      ]
     },
     "execution_count": 3,
     "metadata": {},
     "output_type": "execute_result"
    }
   ],
   "source": [
    "data.head()"
   ]
  },
  {
   "cell_type": "code",
   "execution_count": 4,
   "metadata": {},
   "outputs": [
    {
     "data": {
      "text/plain": [
       "(178, 14)"
      ]
     },
     "execution_count": 4,
     "metadata": {},
     "output_type": "execute_result"
    }
   ],
   "source": [
    "data.shape"
   ]
  },
  {
   "cell_type": "code",
   "execution_count": 8,
   "metadata": {},
   "outputs": [],
   "source": [
    "X=data.loc[:,1:13].values.astype(float)\n",
    "y=data.loc[:,0].values.astype(int)"
   ]
  },
  {
   "cell_type": "code",
   "execution_count": 252,
   "metadata": {},
   "outputs": [
    {
     "data": {
      "text/plain": [
       "1.0"
      ]
     },
     "execution_count": 252,
     "metadata": {},
     "output_type": "execute_result"
    }
   ],
   "source": [
    "from sklearn import tree\n",
    "clf = tree.DecisionTreeClassifier()\n",
    "clf = clf.fit(X, y)\n",
    "clf.score(X,y)"
   ]
  },
  {
   "cell_type": "code",
   "execution_count": 253,
   "metadata": {},
   "outputs": [
    {
     "name": "stdout",
     "output_type": "stream",
     "text": [
      "             precision    recall  f1-score   support\n",
      "\n",
      "          1       1.00      1.00      1.00        59\n",
      "          2       1.00      1.00      1.00        71\n",
      "          3       1.00      1.00      1.00        48\n",
      "\n",
      "avg / total       1.00      1.00      1.00       178\n",
      "\n",
      "Confusion matrix:\n",
      "[[59  0  0]\n",
      " [ 0 71  0]\n",
      " [ 0  0 48]]\n"
     ]
    }
   ],
   "source": [
    "predicted_y = clf.predict(X)\n",
    "from sklearn import metrics\n",
    "print(metrics.classification_report(y, predicted_y))\n",
    "print('Confusion matrix:' )\n",
    "print( metrics.confusion_matrix(y, predicted_y) )"
   ]
  },
  {
   "cell_type": "markdown",
   "metadata": {},
   "source": [
    "# 房价"
   ]
  },
  {
   "cell_type": "code",
   "execution_count": 254,
   "metadata": {},
   "outputs": [],
   "source": [
    "data=pd.read_excel('data/houseprize-sh.xlsx')\n",
    "\n",
    "data.drop(['编号','户型结构','套内面积','交易属性','小区名称','板块','产权年限','首付(W)', '单价'],inplace=True,axis=1)"
   ]
  },
  {
   "cell_type": "code",
   "execution_count": 255,
   "metadata": {},
   "outputs": [],
   "source": [
    "x=data['房屋户型'].str.replace('室',' ').str.replace('厅',' ').str.replace('厨',' ').str.replace('卫','')\n",
    "'''x=x.str.replace('厅',' ')\n",
    "x=x.str.replace('厨',' ')\n",
    "x=x.str.replace('卫','')'''\n",
    "x=x.str.split(' ',expand=True).astype(int)\n",
    "htcolumns={0:'户型-房间',1:'户型-厅',2:'户型-厨房',3:'户型-卫生'}\n",
    "x=x.rename(columns=htcolumns)"
   ]
  },
  {
   "cell_type": "code",
   "execution_count": 256,
   "metadata": {},
   "outputs": [],
   "source": [
    "y=data['建成时间'].str.split('年建',expand=True).drop(1,axis=1)\n",
    "y=y.rename(columns={0:'建成时间'})\n",
    "\n",
    "xy=pd.merge(x,y,how='left',left_index=True,right_index=True)\n",
    "\n",
    "data=data.drop(['房屋户型','建成时间'],axis=1)\n",
    "\n",
    "ndata=pd.merge(data,xy,how='left',left_index=True,right_index=True)"
   ]
  },
  {
   "cell_type": "code",
   "execution_count": 257,
   "metadata": {},
   "outputs": [],
   "source": [
    "i=data['所在楼层'].str.split('楼',expand=True)[0]\n",
    "i.name='所处层数'"
   ]
  },
  {
   "cell_type": "code",
   "execution_count": 258,
   "metadata": {},
   "outputs": [],
   "source": [
    "j=data['所在楼层'].str.replace('共',' ').str.replace('层',' ').str.split(' ',expand=True)[2].astype(int)\n",
    "j.name='总楼层'"
   ]
  },
  {
   "cell_type": "code",
   "execution_count": 259,
   "metadata": {},
   "outputs": [],
   "source": [
    "ij=pd.merge(i,j,how='left',left_index=True,right_index=True)\n",
    "\n",
    "newdata=pd.merge(ndata,ij,how='left',left_index=True,right_index=True)\n",
    "newdata=newdata.drop(['所在楼层'],axis=1)\n",
    "\n",
    "#newdata.head()"
   ]
  },
  {
   "cell_type": "code",
   "execution_count": 260,
   "metadata": {},
   "outputs": [],
   "source": [
    "newdata.to_excel('SuperHouse.xlsx')"
   ]
  },
  {
   "cell_type": "markdown",
   "metadata": {},
   "source": [
    "一点微小的工作，清理了一下同学的数据"
   ]
  },
  {
   "cell_type": "code",
   "execution_count": 82,
   "metadata": {},
   "outputs": [],
   "source": [
    "hdata=pd.read_excel('SuperHouse.xlsx',index_col=0)"
   ]
  },
  {
   "cell_type": "code",
   "execution_count": 83,
   "metadata": {},
   "outputs": [
    {
     "data": {
      "text/html": [
       "<div>\n",
       "<style scoped>\n",
       "    .dataframe tbody tr th:only-of-type {\n",
       "        vertical-align: middle;\n",
       "    }\n",
       "\n",
       "    .dataframe tbody tr th {\n",
       "        vertical-align: top;\n",
       "    }\n",
       "\n",
       "    .dataframe thead th {\n",
       "        text-align: right;\n",
       "    }\n",
       "</style>\n",
       "<table border=\"1\" class=\"dataframe\">\n",
       "  <thead>\n",
       "    <tr style=\"text-align: right;\">\n",
       "      <th></th>\n",
       "      <th>总价(W)</th>\n",
       "      <th>建筑面积(㎡)</th>\n",
       "      <th>建筑类型</th>\n",
       "      <th>房屋朝向</th>\n",
       "      <th>建筑结构</th>\n",
       "      <th>装修情况</th>\n",
       "      <th>梯户比例</th>\n",
       "      <th>配备电梯</th>\n",
       "      <th>经纬度</th>\n",
       "      <th>行政区</th>\n",
       "      <th>户型-房间</th>\n",
       "      <th>户型-厅</th>\n",
       "      <th>户型-厨房</th>\n",
       "      <th>户型-卫生</th>\n",
       "      <th>建成时间</th>\n",
       "      <th>所处层数</th>\n",
       "      <th>总楼层</th>\n",
       "    </tr>\n",
       "  </thead>\n",
       "  <tbody>\n",
       "    <tr>\n",
       "      <th>0</th>\n",
       "      <td>275.0</td>\n",
       "      <td>89.00</td>\n",
       "      <td>板楼</td>\n",
       "      <td>南北</td>\n",
       "      <td>砖混结构</td>\n",
       "      <td>精装</td>\n",
       "      <td>一梯两户</td>\n",
       "      <td>无</td>\n",
       "      <td>121.2535861,31.0347424</td>\n",
       "      <td>松江</td>\n",
       "      <td>2</td>\n",
       "      <td>2</td>\n",
       "      <td>1</td>\n",
       "      <td>1</td>\n",
       "      <td>1999</td>\n",
       "      <td>高</td>\n",
       "      <td>6</td>\n",
       "    </tr>\n",
       "    <tr>\n",
       "      <th>1</th>\n",
       "      <td>310.0</td>\n",
       "      <td>75.23</td>\n",
       "      <td>板楼</td>\n",
       "      <td>南</td>\n",
       "      <td>钢混结构</td>\n",
       "      <td>精装</td>\n",
       "      <td>一梯两户</td>\n",
       "      <td>无</td>\n",
       "      <td>121.3175491,31.24657189</td>\n",
       "      <td>嘉定</td>\n",
       "      <td>2</td>\n",
       "      <td>2</td>\n",
       "      <td>1</td>\n",
       "      <td>1</td>\n",
       "      <td>2005</td>\n",
       "      <td>高</td>\n",
       "      <td>5</td>\n",
       "    </tr>\n",
       "    <tr>\n",
       "      <th>2</th>\n",
       "      <td>405.0</td>\n",
       "      <td>129.49</td>\n",
       "      <td>板楼</td>\n",
       "      <td>南</td>\n",
       "      <td>钢混结构</td>\n",
       "      <td>毛坯</td>\n",
       "      <td>一梯两户</td>\n",
       "      <td>无</td>\n",
       "      <td>121.7264358,31.1604964</td>\n",
       "      <td>浦东</td>\n",
       "      <td>3</td>\n",
       "      <td>2</td>\n",
       "      <td>1</td>\n",
       "      <td>2</td>\n",
       "      <td>2005</td>\n",
       "      <td>高</td>\n",
       "      <td>6</td>\n",
       "    </tr>\n",
       "    <tr>\n",
       "      <th>3</th>\n",
       "      <td>370.0</td>\n",
       "      <td>78.00</td>\n",
       "      <td>板楼</td>\n",
       "      <td>南北</td>\n",
       "      <td>砖混结构</td>\n",
       "      <td>简装</td>\n",
       "      <td>一梯四户</td>\n",
       "      <td>无</td>\n",
       "      <td>121.488126,31.325868</td>\n",
       "      <td>宝山</td>\n",
       "      <td>3</td>\n",
       "      <td>1</td>\n",
       "      <td>1</td>\n",
       "      <td>1</td>\n",
       "      <td>1995</td>\n",
       "      <td>低</td>\n",
       "      <td>6</td>\n",
       "    </tr>\n",
       "    <tr>\n",
       "      <th>4</th>\n",
       "      <td>210.0</td>\n",
       "      <td>86.32</td>\n",
       "      <td>板楼</td>\n",
       "      <td>南北</td>\n",
       "      <td>钢混结构</td>\n",
       "      <td>其他</td>\n",
       "      <td>两梯四户</td>\n",
       "      <td>有</td>\n",
       "      <td>121.129149,31.290665</td>\n",
       "      <td>青浦</td>\n",
       "      <td>2</td>\n",
       "      <td>2</td>\n",
       "      <td>1</td>\n",
       "      <td>1</td>\n",
       "      <td>2010</td>\n",
       "      <td>中</td>\n",
       "      <td>18</td>\n",
       "    </tr>\n",
       "  </tbody>\n",
       "</table>\n",
       "</div>"
      ],
      "text/plain": [
       "   总价(W)  建筑面积(㎡) 建筑类型 房屋朝向  建筑结构 装修情况  梯户比例 配备电梯                      经纬度  \\\n",
       "0  275.0    89.00   板楼   南北  砖混结构   精装  一梯两户    无   121.2535861,31.0347424   \n",
       "1  310.0    75.23   板楼    南  钢混结构   精装  一梯两户    无  121.3175491,31.24657189   \n",
       "2  405.0   129.49   板楼    南  钢混结构   毛坯  一梯两户    无   121.7264358,31.1604964   \n",
       "3  370.0    78.00   板楼   南北  砖混结构   简装  一梯四户    无     121.488126,31.325868   \n",
       "4  210.0    86.32   板楼   南北  钢混结构   其他  两梯四户    有     121.129149,31.290665   \n",
       "\n",
       "  行政区  户型-房间  户型-厅  户型-厨房  户型-卫生  建成时间 所处层数  总楼层  \n",
       "0  松江      2     2      1      1  1999    高    6  \n",
       "1  嘉定      2     2      1      1  2005    高    5  \n",
       "2  浦东      3     2      1      2  2005    高    6  \n",
       "3  宝山      3     1      1      1  1995    低    6  \n",
       "4  青浦      2     2      1      1  2010    中   18  "
      ]
     },
     "execution_count": 83,
     "metadata": {},
     "output_type": "execute_result"
    }
   ],
   "source": [
    "hdata.head()"
   ]
  },
  {
   "cell_type": "code",
   "execution_count": 84,
   "metadata": {},
   "outputs": [],
   "source": [
    "hdata=hdata.dropna()"
   ]
  },
  {
   "cell_type": "code",
   "execution_count": 85,
   "metadata": {},
   "outputs": [
    {
     "data": {
      "text/plain": [
       "Index(['总价(W)', '建筑面积(㎡)', '建筑类型', '房屋朝向', '建筑结构', '装修情况', '梯户比例', '配备电梯',\n",
       "       '经纬度', '行政区', '户型-房间', '户型-厅', '户型-厨房', '户型-卫生', '建成时间', '所处层数', '总楼层'],\n",
       "      dtype='object')"
      ]
     },
     "execution_count": 85,
     "metadata": {},
     "output_type": "execute_result"
    }
   ],
   "source": [
    "hdata.columns"
   ]
  },
  {
   "cell_type": "code",
   "execution_count": 86,
   "metadata": {},
   "outputs": [],
   "source": [
    "hdata['建成时间'][hdata['建成时间']=='未知']='2000'\n",
    "hdata['建成时间']=hdata['建成时间'].astype(int)\n",
    "hdata['建成时间']=hdata['建成时间']-2000\n",
    "#以2000年为基准"
   ]
  },
  {
   "cell_type": "code",
   "execution_count": null,
   "metadata": {},
   "outputs": [],
   "source": []
  },
  {
   "cell_type": "code",
   "execution_count": 87,
   "metadata": {},
   "outputs": [
    {
     "data": {
      "text/plain": [
       "钢混结构    5760\n",
       "砖混结构    3741\n",
       "未知结构     108\n",
       "Name: 建筑结构, dtype: int64"
      ]
     },
     "execution_count": 87,
     "metadata": {},
     "output_type": "execute_result"
    }
   ],
   "source": [
    "hdata['建筑结构'].value_counts()"
   ]
  },
  {
   "cell_type": "code",
   "execution_count": 88,
   "metadata": {},
   "outputs": [
    {
     "data": {
      "text/plain": [
       "Index(['浦东', '闵行', '松江', '宝山', '徐汇', '杨浦', '普陀', '长宁', '嘉定', '青浦', '虹口', '闸北',\n",
       "       '黄浦', '静安', '奉贤', '金山', '崇明'],\n",
       "      dtype='object')"
      ]
     },
     "execution_count": 88,
     "metadata": {},
     "output_type": "execute_result"
    }
   ],
   "source": [
    "hdata['行政区'].value_counts().index"
   ]
  },
  {
   "cell_type": "code",
   "execution_count": 89,
   "metadata": {},
   "outputs": [
    {
     "data": {
      "text/plain": [
       "高    3712\n",
       "中    3168\n",
       "低    2729\n",
       "Name: 所处层数, dtype: int64"
      ]
     },
     "execution_count": 89,
     "metadata": {},
     "output_type": "execute_result"
    }
   ],
   "source": [
    "hdata['所处层数'].value_counts()"
   ]
  },
  {
   "cell_type": "code",
   "execution_count": 90,
   "metadata": {},
   "outputs": [],
   "source": [
    "tdata=hdata.drop(['经纬度'],axis=1)"
   ]
  },
  {
   "cell_type": "markdown",
   "metadata": {},
   "source": [
    "经纬度怎么处理，，，晕"
   ]
  },
  {
   "cell_type": "code",
   "execution_count": 91,
   "metadata": {},
   "outputs": [],
   "source": [
    "tdata.loc[tdata['配备电梯']=='无','配备电梯']=-1\n",
    "tdata.loc[tdata['配备电梯']=='有','配备电梯']=1\n",
    "tdata.loc[tdata['配备电梯']=='暂无数据','配备电梯']=0.5"
   ]
  },
  {
   "cell_type": "code",
   "execution_count": 92,
   "metadata": {},
   "outputs": [],
   "source": [
    "tdata.loc[tdata['所处层数']=='高','所处层数']=3\n",
    "tdata.loc[tdata['所处层数']=='中','所处层数']=2\n",
    "tdata.loc[tdata['所处层数']=='低','所处层数']=1"
   ]
  },
  {
   "cell_type": "code",
   "execution_count": 93,
   "metadata": {},
   "outputs": [],
   "source": [
    "tdata.loc[tdata['建筑类型']=='板楼','建筑类型']=1\n",
    "tdata.loc[tdata['建筑类型']=='塔楼','建筑类型']=2\n",
    "tdata.loc[(tdata['建筑类型']=='暂无数据')|(tdata['建筑类型']=='板塔结合'),'建筑类型']=0.5"
   ]
  },
  {
   "cell_type": "code",
   "execution_count": 94,
   "metadata": {},
   "outputs": [],
   "source": [
    "tdata.loc[tdata['建筑结构']=='钢混结构','建筑结构']=2\n",
    "tdata.loc[tdata['建筑结构']=='砖混结构','建筑结构']=1\n",
    "tdata.loc[tdata['建筑结构']=='未知结构','建筑结构']=0.5"
   ]
  },
  {
   "cell_type": "code",
   "execution_count": 95,
   "metadata": {},
   "outputs": [],
   "source": [
    "tdata.loc[tdata['装修情况']=='简装','装修情况']=1\n",
    "tdata.loc[tdata['装修情况']=='其他','装修情况']=1\n",
    "tdata.loc[tdata['装修情况']=='毛坯','装修情况']=0\n",
    "tdata.loc[tdata['装修情况']=='精装','装修情况']=3"
   ]
  },
  {
   "cell_type": "code",
   "execution_count": 96,
   "metadata": {},
   "outputs": [],
   "source": [
    "dict1={'浦东':1, '闵行':2, '松江':3, '宝山':4, '徐汇':5, '杨浦':6, '普陀':7, '长宁':8, '嘉定':9, '青浦':10, '虹口':11, '闸北':12,'黄浦':13, '静安':14, '奉贤':15, '金山':16, '崇明':17}\n",
    "tdata['行政区']=tdata['行政区'].map(dict1)"
   ]
  },
  {
   "cell_type": "code",
   "execution_count": 97,
   "metadata": {},
   "outputs": [],
   "source": [
    "dict2={}\n",
    "j=0\n",
    "for i in tdata['房屋朝向'].value_counts().index:\n",
    "    dict2[i]=j\n",
    "    j=j+1\n",
    "\n",
    "tdata['房屋朝向']=tdata['房屋朝向'].map(dict2)\n",
    "#用循环生成字典，再用map函数传字典\n",
    "dict3={}\n",
    "j=0\n",
    "for i in tdata['梯户比例'].value_counts().index:\n",
    "    dict3[i]=j\n",
    "    j=j+1\n",
    "\n",
    "tdata['梯户比例']=tdata['梯户比例'].map(dict3)\n",
    "#故 技 重 施"
   ]
  },
  {
   "cell_type": "code",
   "execution_count": 98,
   "metadata": {},
   "outputs": [
    {
     "name": "stdout",
     "output_type": "stream",
     "text": [
      "<class 'pandas.core.frame.DataFrame'>\n",
      "Int64Index: 9609 entries, 0 to 9999\n",
      "Data columns (total 16 columns):\n",
      " #   Column   Non-Null Count  Dtype  \n",
      "---  ------   --------------  -----  \n",
      " 0   总价(W)    9609 non-null   float64\n",
      " 1   建筑面积(㎡)  9609 non-null   float64\n",
      " 2   建筑类型     9609 non-null   object \n",
      " 3   房屋朝向     9609 non-null   int64  \n",
      " 4   建筑结构     9609 non-null   object \n",
      " 5   装修情况     9609 non-null   object \n",
      " 6   梯户比例     9609 non-null   int64  \n",
      " 7   配备电梯     9609 non-null   object \n",
      " 8   行政区      9609 non-null   int64  \n",
      " 9   户型-房间    9609 non-null   int64  \n",
      " 10  户型-厅     9609 non-null   int64  \n",
      " 11  户型-厨房    9609 non-null   int64  \n",
      " 12  户型-卫生    9609 non-null   int64  \n",
      " 13  建成时间     9609 non-null   int32  \n",
      " 14  所处层数     9609 non-null   object \n",
      " 15  总楼层      9609 non-null   int64  \n",
      "dtypes: float64(2), int32(1), int64(8), object(5)\n",
      "memory usage: 1.0+ MB\n"
     ]
    }
   ],
   "source": [
    "tdata.info()"
   ]
  },
  {
   "cell_type": "code",
   "execution_count": 99,
   "metadata": {},
   "outputs": [
    {
     "data": {
      "text/html": [
       "<div>\n",
       "<style scoped>\n",
       "    .dataframe tbody tr th:only-of-type {\n",
       "        vertical-align: middle;\n",
       "    }\n",
       "\n",
       "    .dataframe tbody tr th {\n",
       "        vertical-align: top;\n",
       "    }\n",
       "\n",
       "    .dataframe thead th {\n",
       "        text-align: right;\n",
       "    }\n",
       "</style>\n",
       "<table border=\"1\" class=\"dataframe\">\n",
       "  <thead>\n",
       "    <tr style=\"text-align: right;\">\n",
       "      <th></th>\n",
       "      <th>总价(W)</th>\n",
       "      <th>建筑面积(㎡)</th>\n",
       "      <th>建筑类型</th>\n",
       "      <th>房屋朝向</th>\n",
       "      <th>建筑结构</th>\n",
       "      <th>装修情况</th>\n",
       "      <th>梯户比例</th>\n",
       "      <th>配备电梯</th>\n",
       "      <th>行政区</th>\n",
       "      <th>户型-房间</th>\n",
       "      <th>户型-厅</th>\n",
       "      <th>户型-厨房</th>\n",
       "      <th>户型-卫生</th>\n",
       "      <th>建成时间</th>\n",
       "      <th>所处层数</th>\n",
       "      <th>总楼层</th>\n",
       "    </tr>\n",
       "  </thead>\n",
       "  <tbody>\n",
       "    <tr>\n",
       "      <th>0</th>\n",
       "      <td>275.0</td>\n",
       "      <td>89.00</td>\n",
       "      <td>1</td>\n",
       "      <td>1</td>\n",
       "      <td>1</td>\n",
       "      <td>3</td>\n",
       "      <td>0</td>\n",
       "      <td>-1</td>\n",
       "      <td>3</td>\n",
       "      <td>2</td>\n",
       "      <td>2</td>\n",
       "      <td>1</td>\n",
       "      <td>1</td>\n",
       "      <td>-1</td>\n",
       "      <td>3</td>\n",
       "      <td>6</td>\n",
       "    </tr>\n",
       "    <tr>\n",
       "      <th>1</th>\n",
       "      <td>310.0</td>\n",
       "      <td>75.23</td>\n",
       "      <td>1</td>\n",
       "      <td>0</td>\n",
       "      <td>2</td>\n",
       "      <td>3</td>\n",
       "      <td>0</td>\n",
       "      <td>-1</td>\n",
       "      <td>9</td>\n",
       "      <td>2</td>\n",
       "      <td>2</td>\n",
       "      <td>1</td>\n",
       "      <td>1</td>\n",
       "      <td>5</td>\n",
       "      <td>3</td>\n",
       "      <td>5</td>\n",
       "    </tr>\n",
       "    <tr>\n",
       "      <th>2</th>\n",
       "      <td>405.0</td>\n",
       "      <td>129.49</td>\n",
       "      <td>1</td>\n",
       "      <td>0</td>\n",
       "      <td>2</td>\n",
       "      <td>0</td>\n",
       "      <td>0</td>\n",
       "      <td>-1</td>\n",
       "      <td>1</td>\n",
       "      <td>3</td>\n",
       "      <td>2</td>\n",
       "      <td>1</td>\n",
       "      <td>2</td>\n",
       "      <td>5</td>\n",
       "      <td>3</td>\n",
       "      <td>6</td>\n",
       "    </tr>\n",
       "    <tr>\n",
       "      <th>3</th>\n",
       "      <td>370.0</td>\n",
       "      <td>78.00</td>\n",
       "      <td>1</td>\n",
       "      <td>1</td>\n",
       "      <td>1</td>\n",
       "      <td>1</td>\n",
       "      <td>1</td>\n",
       "      <td>-1</td>\n",
       "      <td>4</td>\n",
       "      <td>3</td>\n",
       "      <td>1</td>\n",
       "      <td>1</td>\n",
       "      <td>1</td>\n",
       "      <td>-5</td>\n",
       "      <td>1</td>\n",
       "      <td>6</td>\n",
       "    </tr>\n",
       "    <tr>\n",
       "      <th>4</th>\n",
       "      <td>210.0</td>\n",
       "      <td>86.32</td>\n",
       "      <td>1</td>\n",
       "      <td>1</td>\n",
       "      <td>2</td>\n",
       "      <td>1</td>\n",
       "      <td>3</td>\n",
       "      <td>1</td>\n",
       "      <td>10</td>\n",
       "      <td>2</td>\n",
       "      <td>2</td>\n",
       "      <td>1</td>\n",
       "      <td>1</td>\n",
       "      <td>10</td>\n",
       "      <td>2</td>\n",
       "      <td>18</td>\n",
       "    </tr>\n",
       "  </tbody>\n",
       "</table>\n",
       "</div>"
      ],
      "text/plain": [
       "   总价(W)  建筑面积(㎡) 建筑类型  房屋朝向 建筑结构 装修情况  梯户比例 配备电梯  行政区  户型-房间  户型-厅  户型-厨房  \\\n",
       "0  275.0    89.00    1     1    1    3     0   -1    3      2     2      1   \n",
       "1  310.0    75.23    1     0    2    3     0   -1    9      2     2      1   \n",
       "2  405.0   129.49    1     0    2    0     0   -1    1      3     2      1   \n",
       "3  370.0    78.00    1     1    1    1     1   -1    4      3     1      1   \n",
       "4  210.0    86.32    1     1    2    1     3    1   10      2     2      1   \n",
       "\n",
       "   户型-卫生  建成时间 所处层数  总楼层  \n",
       "0      1    -1    3    6  \n",
       "1      1     5    3    5  \n",
       "2      2     5    3    6  \n",
       "3      1    -5    1    6  \n",
       "4      1    10    2   18  "
      ]
     },
     "execution_count": 99,
     "metadata": {},
     "output_type": "execute_result"
    }
   ],
   "source": [
    "tdata.head()"
   ]
  },
  {
   "cell_type": "code",
   "execution_count": 100,
   "metadata": {},
   "outputs": [],
   "source": [
    "import matplotlib.pyplot as plt\n",
    "plt.rcParams['font.sans-serif']=['SimHei']#设置中文标签\n",
    "plt.rcParams['axes.unicode_minus'] = False #负号标签"
   ]
  },
  {
   "cell_type": "code",
   "execution_count": 101,
   "metadata": {},
   "outputs": [
    {
     "data": {
      "text/plain": [
       "Index(['总价(W)', '建筑面积(㎡)', '建筑类型', '房屋朝向', '建筑结构', '装修情况', '梯户比例', '配备电梯',\n",
       "       '行政区', '户型-房间', '户型-厅', '户型-厨房', '户型-卫生', '建成时间', '所处层数', '总楼层'],\n",
       "      dtype='object')"
      ]
     },
     "execution_count": 101,
     "metadata": {},
     "output_type": "execute_result"
    }
   ],
   "source": [
    "tdata.columns"
   ]
  },
  {
   "cell_type": "code",
   "execution_count": 107,
   "metadata": {},
   "outputs": [
    {
     "data": {
      "image/png": "[encoded data removed]",
      "text/plain": [
       "<Figure size 432x288 with 1 Axes>"
      ]
     },
     "metadata": {},
     "output_type": "display_data"
    },
    {
     "data": {
      "image/png": "[encoded data removed]",
      "text/plain": [
       "<Figure size 432x288 with 1 Axes>"
      ]
     },
     "metadata": {},
     "output_type": "display_data"
    },
    {
     "data": {
      "image/png": "[encoded data removed]",
      "text/plain": [
       "<Figure size 432x288 with 1 Axes>"
      ]
     },
     "metadata": {},
     "output_type": "display_data"
    },
    {
     "data": {
      "image/png": "[encoded data removed]",
      "text/plain": [
       "<Figure size 432x288 with 1 Axes>"
      ]
     },
     "metadata": {},
     "output_type": "display_data"
    },
    {
     "data": {
      "image/png": "[encoded data removed]",
      "text/plain": [
       "<Figure size 432x288 with 1 Axes>"
      ]
     },
     "metadata": {},
     "output_type": "display_data"
    },
    {
     "data": {
      "image/png": "[encoded data removed]",
      "text/plain": [
       "<Figure size 432x288 with 1 Axes>"
      ]
     },
     "metadata": {},
     "output_type": "display_data"
    },
    {
     "data": {
      "image/png": "[encoded data removed]",
      "text/plain": [
       "<Figure size 432x288 with 1 Axes>"
      ]
     },
     "metadata": {},
     "output_type": "display_data"
    },
    {
     "data": {
      "image/png": "[encoded data removed]",
      "text/plain": [
       "<Figure size 432x288 with 1 Axes>"
      ]
     },
     "metadata": {},
     "output_type": "display_data"
    },
    {
     "data": {
      "image/png": "[encoded data removed]",
      "text/plain": [
       "<Figure size 432x288 with 1 Axes>"
      ]
     },
     "metadata": {},
     "output_type": "display_data"
    },
    {
     "data": {
      "image/png": "[encoded data removed]",
      "text/plain": [
       "<Figure size 432x288 with 1 Axes>"
      ]
     },
     "metadata": {},
     "output_type": "display_data"
    },
    {
     "data": {
      "image/png": "[encoded data removed]",
      "text/plain": [
       "<Figure size 432x288 with 1 Axes>"
      ]
     },
     "metadata": {},
     "output_type": "display_data"
    },
    {
     "data": {
      "image/png": "[encoded data removed]",
      "text/plain": [
       "<Figure size 432x288 with 1 Axes>"
      ]
     },
     "metadata": {},
     "output_type": "display_data"
    },
    {
     "data": {
      "image/png": "[encoded data removed]",
      "text/plain": [
       "<Figure size 432x288 with 1 Axes>"
      ]
     },
     "metadata": {},
     "output_type": "display_data"
    },
    {
     "data": {
      "image/png": "[encoded data removed]",
      "text/plain": [
       "<Figure size 432x288 with 1 Axes>"
      ]
     },
     "metadata": {},
     "output_type": "display_data"
    },
    {
     "data": {
      "image/png": "[encoded data removed]",
      "text/plain": [
       "<Figure size 432x288 with 1 Axes>"
      ]
     },
     "metadata": {},
     "output_type": "display_data"
    }
   ],
   "source": [
    "for k in tdata.iloc[:,1:16].columns:\n",
    "    tdata.plot(kind='scatter',x=k,y='总价(W)',title='价格与'+k)\n",
    "    plt.xlabel(k)\n",
    "    plt.ylabel(\"总价(W)\")\n",
    "    plt.show() \n",
    "    #循环画散点图"
   ]
  },
  {
   "cell_type": "code",
   "execution_count": 46,
   "metadata": {},
   "outputs": [
    {
     "data": {
      "text/html": [
       "<div>\n",
       "<style scoped>\n",
       "    .dataframe tbody tr th:only-of-type {\n",
       "        vertical-align: middle;\n",
       "    }\n",
       "\n",
       "    .dataframe tbody tr th {\n",
       "        vertical-align: top;\n",
       "    }\n",
       "\n",
       "    .dataframe thead th {\n",
       "        text-align: right;\n",
       "    }\n",
       "</style>\n",
       "<table border=\"1\" class=\"dataframe\">\n",
       "  <thead>\n",
       "    <tr style=\"text-align: right;\">\n",
       "      <th></th>\n",
       "      <th>建筑面积(㎡)</th>\n",
       "      <th>建筑类型</th>\n",
       "      <th>房屋朝向</th>\n",
       "      <th>建筑结构</th>\n",
       "      <th>装修情况</th>\n",
       "      <th>梯户比例</th>\n",
       "      <th>配备电梯</th>\n",
       "      <th>行政区</th>\n",
       "      <th>户型-房间</th>\n",
       "      <th>户型-厅</th>\n",
       "      <th>户型-厨房</th>\n",
       "      <th>户型-卫生</th>\n",
       "      <th>建成时间</th>\n",
       "      <th>所处层数</th>\n",
       "      <th>总楼层</th>\n",
       "    </tr>\n",
       "  </thead>\n",
       "  <tbody>\n",
       "    <tr>\n",
       "      <th>0</th>\n",
       "      <td>89.00</td>\n",
       "      <td>1.0</td>\n",
       "      <td>1.0</td>\n",
       "      <td>1.0</td>\n",
       "      <td>3.0</td>\n",
       "      <td>0.0</td>\n",
       "      <td>-1.0</td>\n",
       "      <td>3.0</td>\n",
       "      <td>2.0</td>\n",
       "      <td>2.0</td>\n",
       "      <td>1.0</td>\n",
       "      <td>1.0</td>\n",
       "      <td>-1.0</td>\n",
       "      <td>3.0</td>\n",
       "      <td>6.0</td>\n",
       "    </tr>\n",
       "    <tr>\n",
       "      <th>1</th>\n",
       "      <td>75.23</td>\n",
       "      <td>1.0</td>\n",
       "      <td>0.0</td>\n",
       "      <td>2.0</td>\n",
       "      <td>3.0</td>\n",
       "      <td>0.0</td>\n",
       "      <td>-1.0</td>\n",
       "      <td>9.0</td>\n",
       "      <td>2.0</td>\n",
       "      <td>2.0</td>\n",
       "      <td>1.0</td>\n",
       "      <td>1.0</td>\n",
       "      <td>5.0</td>\n",
       "      <td>3.0</td>\n",
       "      <td>5.0</td>\n",
       "    </tr>\n",
       "    <tr>\n",
       "      <th>2</th>\n",
       "      <td>129.49</td>\n",
       "      <td>1.0</td>\n",
       "      <td>0.0</td>\n",
       "      <td>2.0</td>\n",
       "      <td>0.0</td>\n",
       "      <td>0.0</td>\n",
       "      <td>-1.0</td>\n",
       "      <td>1.0</td>\n",
       "      <td>3.0</td>\n",
       "      <td>2.0</td>\n",
       "      <td>1.0</td>\n",
       "      <td>2.0</td>\n",
       "      <td>5.0</td>\n",
       "      <td>3.0</td>\n",
       "      <td>6.0</td>\n",
       "    </tr>\n",
       "    <tr>\n",
       "      <th>3</th>\n",
       "      <td>78.00</td>\n",
       "      <td>1.0</td>\n",
       "      <td>1.0</td>\n",
       "      <td>1.0</td>\n",
       "      <td>1.0</td>\n",
       "      <td>1.0</td>\n",
       "      <td>-1.0</td>\n",
       "      <td>4.0</td>\n",
       "      <td>3.0</td>\n",
       "      <td>1.0</td>\n",
       "      <td>1.0</td>\n",
       "      <td>1.0</td>\n",
       "      <td>-5.0</td>\n",
       "      <td>1.0</td>\n",
       "      <td>6.0</td>\n",
       "    </tr>\n",
       "    <tr>\n",
       "      <th>4</th>\n",
       "      <td>86.32</td>\n",
       "      <td>1.0</td>\n",
       "      <td>1.0</td>\n",
       "      <td>2.0</td>\n",
       "      <td>1.0</td>\n",
       "      <td>3.0</td>\n",
       "      <td>1.0</td>\n",
       "      <td>10.0</td>\n",
       "      <td>2.0</td>\n",
       "      <td>2.0</td>\n",
       "      <td>1.0</td>\n",
       "      <td>1.0</td>\n",
       "      <td>10.0</td>\n",
       "      <td>2.0</td>\n",
       "      <td>18.0</td>\n",
       "    </tr>\n",
       "  </tbody>\n",
       "</table>\n",
       "</div>"
      ],
      "text/plain": [
       "   建筑面积(㎡)  建筑类型  房屋朝向  建筑结构  装修情况  梯户比例  配备电梯   行政区  户型-房间  户型-厅  户型-厨房  \\\n",
       "0    89.00   1.0   1.0   1.0   3.0   0.0  -1.0   3.0    2.0   2.0    1.0   \n",
       "1    75.23   1.0   0.0   2.0   3.0   0.0  -1.0   9.0    2.0   2.0    1.0   \n",
       "2   129.49   1.0   0.0   2.0   0.0   0.0  -1.0   1.0    3.0   2.0    1.0   \n",
       "3    78.00   1.0   1.0   1.0   1.0   1.0  -1.0   4.0    3.0   1.0    1.0   \n",
       "4    86.32   1.0   1.0   2.0   1.0   3.0   1.0  10.0    2.0   2.0    1.0   \n",
       "\n",
       "   户型-卫生  建成时间  所处层数   总楼层  \n",
       "0    1.0  -1.0   3.0   6.0  \n",
       "1    1.0   5.0   3.0   5.0  \n",
       "2    2.0   5.0   3.0   6.0  \n",
       "3    1.0  -5.0   1.0   6.0  \n",
       "4    1.0  10.0   2.0  18.0  "
      ]
     },
     "execution_count": 46,
     "metadata": {},
     "output_type": "execute_result"
    }
   ],
   "source": [
    "X=tdata.iloc[:,1:16].astype(float)#1:16是1到15\n",
    "X.head()#.iloc是按索引访问，记好了"
   ]
  },
  {
   "cell_type": "code",
   "execution_count": 38,
   "metadata": {},
   "outputs": [
    {
     "data": {
      "text/plain": [
       "0    275.0\n",
       "1    310.0\n",
       "2    405.0\n",
       "3    370.0\n",
       "4    210.0\n",
       "Name: 总价(W), dtype: float64"
      ]
     },
     "execution_count": 38,
     "metadata": {},
     "output_type": "execute_result"
    }
   ],
   "source": [
    "y=tdata.iloc[:,0].astype(float)\n",
    "y.head()"
   ]
  },
  {
   "cell_type": "code",
   "execution_count": 39,
   "metadata": {},
   "outputs": [
    {
     "name": "stderr",
     "output_type": "stream",
     "text": [
      "C:\\ProgramData\\Anaconda3\\lib\\site-packages\\sklearn\\cross_validation.py:44: DeprecationWarning: This module was deprecated in version 0.18 in favor of the model_selection module into which all the refactored classes and functions are moved. Also note that the interface of the new CV iterators are different from that of this module. This module will be removed in 0.20.\n",
      "  \"This module will be removed in 0.20.\", DeprecationWarning)\n"
     ]
    }
   ],
   "source": [
    "from sklearn.cross_validation import train_test_split\n",
    "X_train, X_test, y_train, y_test = train_test_split(X, y, random_state=1)"
   ]
  },
  {
   "cell_type": "code",
   "execution_count": 40,
   "metadata": {},
   "outputs": [
    {
     "name": "stdout",
     "output_type": "stream",
     "text": [
      "截距为： -273.40114197592106\n",
      "系数为： [   2.53466997 -136.91979371   -1.98448702   19.29804934   27.60013302\n",
      "   -0.40152873    9.80827882    1.97681526   34.87896882   16.6326151\n",
      "   24.02930131  223.21256771   -7.02748856   -0.2602342    17.42590585]\n"
     ]
    }
   ],
   "source": [
    "from sklearn.linear_model import LinearRegression\n",
    "hplinreg = LinearRegression()\n",
    "hplinreg.fit(X_train, y_train)\n",
    "print ('截距为：',hplinreg.intercept_)\n",
    "print ('系数为：', hplinreg.coef_)"
   ]
  },
  {
   "cell_type": "code",
   "execution_count": 41,
   "metadata": {},
   "outputs": [
    {
     "name": "stdout",
     "output_type": "stream",
     "text": [
      "MSE: 59008.27596888275\n",
      "RMSE: 242.91619124480516\n"
     ]
    }
   ],
   "source": [
    "#模型拟合测试集\n",
    "y_pred = hplinreg.predict(X_test)\n",
    "from sklearn import metrics\n",
    "#计算MSE\n",
    "print (\"MSE:\",metrics.mean_squared_error(y_test, y_pred))\n",
    "#算RMSE\n",
    "print (\"RMSE:\",np.sqrt(metrics.mean_squared_error(y_test, y_pred)))"
   ]
  },
  {
   "cell_type": "markdown",
   "metadata": {},
   "source": [
    "好像过拟合了，算了不管了"
   ]
  },
  {
   "cell_type": "code",
   "execution_count": 42,
   "metadata": {},
   "outputs": [],
   "source": [
    "tdata.to_excel('trainHousePrize.xlsx')"
   ]
  }
 ],
 "metadata": {
  "kernelspec": {
   "display_name": "Python 3",
   "language": "python",
   "name": "python3"
  },
  "language_info": {
   "codemirror_mode": {
    "name": "ipython",
    "version": 3
   },
   "file_extension": ".py",
   "mimetype": "text/x-python",
   "name": "python",
   "nbconvert_exporter": "python",
   "pygments_lexer": "ipython3",
   "version": "3.6.10"
  }
 },
 "nbformat": 4,
 "nbformat_minor": 4
}
