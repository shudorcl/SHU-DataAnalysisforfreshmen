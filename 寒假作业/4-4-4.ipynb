{
 "cells": [
  {
   "cell_type": "markdown",
   "metadata": {},
   "source": [
    "# 例4-4"
   ]
  },
  {
   "cell_type": "code",
   "execution_count": 1,
   "metadata": {
    "collapsed": true
   },
   "outputs": [],
   "source": [
    "import pandas as pd\n",
    "import numpy as np\n",
    "import matplotlib.pyplot as plt"
   ]
  },
  {
   "cell_type": "code",
   "execution_count": 2,
   "metadata": {
    "collapsed": true
   },
   "outputs": [],
   "source": [
    "x=np.linspace(0,6.28,50)"
   ]
  },
  {
   "cell_type": "code",
   "execution_count": 3,
   "metadata": {
    "collapsed": false
   },
   "outputs": [
    {
     "data": {
      "text/plain": [
       "array([ 0.        ,  0.12816327,  0.25632653,  0.3844898 ,  0.51265306,\n",
       "        0.64081633,  0.76897959,  0.89714286,  1.02530612,  1.15346939,\n",
       "        1.28163265,  1.40979592,  1.53795918,  1.66612245,  1.79428571,\n",
       "        1.92244898,  2.05061224,  2.17877551,  2.30693878,  2.43510204,\n",
       "        2.56326531,  2.69142857,  2.81959184,  2.9477551 ,  3.07591837,\n",
       "        3.20408163,  3.3322449 ,  3.46040816,  3.58857143,  3.71673469,\n",
       "        3.84489796,  3.97306122,  4.10122449,  4.22938776,  4.35755102,\n",
       "        4.48571429,  4.61387755,  4.74204082,  4.87020408,  4.99836735,\n",
       "        5.12653061,  5.25469388,  5.38285714,  5.51102041,  5.63918367,\n",
       "        5.76734694,  5.8955102 ,  6.02367347,  6.15183673,  6.28      ])"
      ]
     },
     "execution_count": 3,
     "metadata": {},
     "output_type": "execute_result"
    }
   ],
   "source": [
    "x"
   ]
  },
  {
   "cell_type": "code",
   "execution_count": 4,
   "metadata": {
    "collapsed": false
   },
   "outputs": [
    {
     "data": {
      "text/plain": [
       "array([ 0.        ,  0.12781269,  0.25352882,  0.37508623,  0.49049097,\n",
       "        0.59785001,  0.69540231,  0.78154769,  0.85487306,  0.91417565,\n",
       "        0.95848269,  0.98706741,  0.99946091,  0.9954599 ,  0.97513002,\n",
       "        0.93880474,  0.88707991,  0.820804  ,  0.74106416,  0.64916838,\n",
       "        0.54662406,  0.43511328,  0.31646518,  0.19262599,  0.06562709,\n",
       "       -0.06244832, -0.18949936, -0.31344198, -0.4322431 , -0.54395398,\n",
       "       -0.6467422 , -0.73892168, -0.81898036, -0.88560503, -0.9377028 ,\n",
       "       -0.97441911, -0.99515167, -0.99956042, -0.98757302, -0.95938612,\n",
       "       -0.91546207, -0.85652137, -0.78353086, -0.69768781, -0.60040034,\n",
       "       -0.4932643 , -0.37803707, -0.25660877, -0.13097122, -0.0031853 ])"
      ]
     },
     "execution_count": 4,
     "metadata": {},
     "output_type": "execute_result"
    }
   ],
   "source": [
    "y=np.sin(x)\n",
    "y"
   ]
  },
  {
   "cell_type": "code",
   "execution_count": 5,
   "metadata": {
    "collapsed": false
   },
   "outputs": [
    {
     "data": {
      "text/plain": [
       "[<matplotlib.lines.Line2D at 0xde9d30>]"
      ]
     },
     "execution_count": 5,
     "metadata": {},
     "output_type": "execute_result"
    }
   ],
   "source": [
    "plt.plot(x,y,color='r')"
   ]
  },
  {
   "cell_type": "code",
   "execution_count": 6,
   "metadata": {
    "collapsed": false
   },
   "outputs": [
    {
     "data": {
      "text/plain": [
       "[<matplotlib.lines.Line2D at 0x11f74b0>]"
      ]
     },
     "execution_count": 6,
     "metadata": {},
     "output_type": "execute_result"
    }
   ],
   "source": [
    "plt.plot(x,np.exp(-x),c='b')"
   ]
  },
  {
   "cell_type": "code",
   "execution_count": 8,
   "metadata": {
    "collapsed": false
   },
   "outputs": [
    {
     "data": {
      "image/png": "[encoded data removed]",
      "text/plain": [
       "<matplotlib.figure.Figure at 0xa19a470>"
      ]
     },
     "metadata": {},
     "output_type": "display_data"
    }
   ],
   "source": [
    "plt.show()"
   ]
  },
  {
   "cell_type": "code",
   "execution_count": null,
   "metadata": {
    "collapsed": true
   },
   "outputs": [],
   "source": []
  }
 ],
 "metadata": {
  "kernelspec": {
   "display_name": "Python 3",
   "language": "python",
   "name": "python3"
  },
  "language_info": {
   "codemirror_mode": {
    "name": "ipython",
    "version": 3
   },
   "file_extension": ".py",
   "mimetype": "text/x-python",
   "name": "python",
   "nbconvert_exporter": "python",
   "pygments_lexer": "ipython3",
   "version": "3.6.0"
  }
 },
 "nbformat": 4,
 "nbformat_minor": 2
}
