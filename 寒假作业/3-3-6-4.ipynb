{
 "cells": [
  {
   "cell_type": "code",
   "execution_count": 2,
   "metadata": {
    "collapsed": true
   },
   "outputs": [],
   "source": [
    "import pandas as pd\n",
    "import numpy as np\n",
    "from pandas import Series, DataFrame"
   ]
  },
  {
   "cell_type": "code",
   "execution_count": 3,
   "metadata": {
    "collapsed": false
   },
   "outputs": [],
   "source": [
    "df1 = pd.read_excel('studentsInfo.xlsx','Group1',index_col=0)  \n",
    "df2 = pd.read_excel('studentsInfo.xlsx','Group2',index_col=0)  \n",
    "df3 = pd.read_excel('studentsInfo.xlsx','Group3',index_col=0)  \n",
    "df4 = pd.read_excel('studentsInfo.xlsx','Group4',index_col=0)  \n",
    "df5 = pd.read_excel('studentsInfo.xlsx','Group5',index_col=0)\n",
    "stu=pd.concat([df1,df2,df3,df4,df5],axis=0)"
   ]
  },
  {
   "cell_type": "code",
   "execution_count": 4,
   "metadata": {
    "collapsed": false
   },
   "outputs": [
    {
     "data": {
      "text/plain": [
       "(50, 9)"
      ]
     },
     "execution_count": 4,
     "metadata": {},
     "output_type": "execute_result"
    }
   ],
   "source": [
    "stu.shape"
   ]
  },
  {
   "cell_type": "code",
   "execution_count": 5,
   "metadata": {
    "collapsed": false
   },
   "outputs": [],
   "source": [
    "stu.drop_duplicates(inplace = True)"
   ]
  },
  {
   "cell_type": "code",
   "execution_count": 6,
   "metadata": {
    "collapsed": false
   },
   "outputs": [],
   "source": [
    "stu.dropna(thresh=8,inplace = True )"
   ]
  },
  {
   "cell_type": "code",
   "execution_count": 7,
   "metadata": {
    "collapsed": false
   },
   "outputs": [
    {
     "name": "stdout",
     "output_type": "stream",
     "text": [
      "Data Size after drop: (48, 9)\n"
     ]
    }
   ],
   "source": [
    "print( 'Data Size after drop:', stu.shape )"
   ]
  },
  {
   "cell_type": "code",
   "execution_count": 8,
   "metadata": {
    "collapsed": false
   },
   "outputs": [
    {
     "name": "stdout",
     "output_type": "stream",
     "text": [
      "Nan Columns:\n",
      " 性别      False\n",
      "年龄       True\n",
      "身高      False\n",
      "体重      False\n",
      "省份      False\n",
      "成绩       True\n",
      "月生活费    False\n",
      "课程兴趣    False\n",
      "案例教学    False\n",
      "dtype: bool\n"
     ]
    }
   ],
   "source": [
    "print( \"Nan Columns:\\n\",stu.isnull().any() )"
   ]
  },
  {
   "cell_type": "code",
   "execution_count": 9,
   "metadata": {
    "collapsed": false
   },
   "outputs": [
    {
     "name": "stdout",
     "output_type": "stream",
     "text": [
      "Nan Columns:\n",
      " 性别      False\n",
      "年龄      False\n",
      "身高      False\n",
      "体重      False\n",
      "省份      False\n",
      "成绩      False\n",
      "月生活费    False\n",
      "课程兴趣    False\n",
      "案例教学    False\n",
      "dtype: bool\n"
     ]
    }
   ],
   "source": [
    "stu.fillna({'年龄':20, '成绩':stu['成绩'].mean()}, inplace=True )\n",
    "print( \"Nan Columns:\\n\",stu.isnull().any() )"
   ]
  },
  {
   "cell_type": "code",
   "execution_count": 10,
   "metadata": {
    "collapsed": false
   },
   "outputs": [
    {
     "name": "stdout",
     "output_type": "stream",
     "text": [
      "Excellent: 9, Fail: 4\n"
     ]
    }
   ],
   "source": [
    "stu_grade = stu.sort_values(by='成绩', ascending=False)\n",
    "ex = (stu_grade['成绩']>=90 ).sum()   \n",
    "fail = (stu_grade['成绩']<60 ).sum()\n",
    "print(\"Excellent: {}, Fail: {}\".format(ex,fail))"
   ]
  },
  {
   "cell_type": "code",
   "execution_count": 11,
   "metadata": {
    "collapsed": false
   },
   "outputs": [
    {
     "name": "stdout",
     "output_type": "stream",
     "text": [
      "ex_mean:\n",
      " 成绩      93.777778\n",
      "课程兴趣     5.000000\n",
      "dtype: float64 \n",
      "total_mean\n",
      " 成绩      76.326087\n",
      "课程兴趣     4.208333\n",
      "dtype: float64 \n",
      "fail_mean\n",
      " 成绩      46.0\n",
      "课程兴趣     3.0\n",
      "dtype: float64\n"
     ]
    }
   ],
   "source": [
    "ex_mean = stu_grade[0:9][['成绩','课程兴趣']].mean()\n",
    "total_mean = stu_grade[['成绩','课程兴趣']].mean()\n",
    "fail_mean = stu_grade[-4:][['成绩','课程兴趣']].mean()\n",
    "print(\"ex_mean:\\n\", ex_mean, \"\\ntotal_mean\\n\",total_mean, \"\\nfail_mean\\n\", fail_mean)"
   ]
  },
  {
   "cell_type": "code",
   "execution_count": 12,
   "metadata": {
    "collapsed": false
   },
   "outputs": [
    {
     "data": {
      "text/plain": [
       "0.49184633480796797"
      ]
     },
     "execution_count": 12,
     "metadata": {},
     "output_type": "execute_result"
    }
   ],
   "source": [
    "stu_grade['成绩'].corr(stu_grade['课程兴趣'])"
   ]
  },
  {
   "cell_type": "code",
   "execution_count": 13,
   "metadata": {
    "collapsed": false
   },
   "outputs": [
    {
     "name": "stdout",
     "output_type": "stream",
     "text": [
      "        年龄  身高  体重  省份  成绩  月生活费  课程兴趣  案例教学\n",
      "性别                                          \n",
      "female  24  24  24  24  24    24    24    24\n",
      "male    24  24  24  24  24    24    24    24 \n",
      "                成绩\n",
      "性别               \n",
      "female  73.666667\n",
      "male    78.985507\n",
      "              性别  年龄  身高  体重  成绩  月生活费  课程兴趣  案例教学\n",
      "省份                                                \n",
      "AnHui          2   2   2   2   2     2     2     2\n",
      "BeiJing        1   1   1   1   1     1     1     1\n",
      "ChongQing      3   3   3   3   3     3     3     3\n",
      "FuJian         1   1   1   1   1     1     1     1\n",
      "GanSu          3   3   3   3   3     3     3     3\n",
      "GuangDong      2   2   2   2   2     2     2     2\n",
      "GuangXi        3   3   3   3   3     3     3     3\n",
      "GuiZhou        3   3   3   3   3     3     3     3\n",
      "HaiNan         1   1   1   1   1     1     1     1\n",
      "HeBei          1   1   1   1   1     1     1     1\n",
      "HeiLongJiang   2   2   2   2   2     2     2     2\n",
      "HuBei          1   1   1   1   1     1     1     1\n",
      "JiLin          1   1   1   1   1     1     1     1\n",
      "JiangSu        1   1   1   1   1     1     1     1\n",
      "JiangXi        3   3   3   3   3     3     3     3\n",
      "LiaoNing       3   3   3   3   3     3     3     3\n",
      "ShanDong       3   3   3   3   3     3     3     3\n",
      "ShanXi         2   2   2   2   2     2     2     2\n",
      "ShangHai       3   3   3   3   3     3     3     3\n",
      "SiChuan        2   2   2   2   2     2     2     2\n",
      "TianJin        1   1   1   1   1     1     1     1\n",
      "XiZang         1   1   1   1   1     1     1     1\n",
      "XinJiang       2   2   2   2   2     2     2     2\n",
      "YunNan         3   3   3   3   3     3     3     3 \n",
      "                      成绩\n",
      "省份                     \n",
      "AnHui         77.163043\n",
      "BeiJing       62.000000\n",
      "ChongQing     75.333333\n",
      "FuJian        57.000000\n",
      "GanSu         82.666667\n",
      "GuangDong     67.500000\n",
      "GuangXi       77.666667\n",
      "GuiZhou       69.666667\n",
      "HaiNan        12.000000\n",
      "HeBei         59.000000\n",
      "HeiLongJiang  89.500000\n",
      "HuBei         89.000000\n",
      "JiLin         92.000000\n",
      "JiangSu       98.000000\n",
      "JiangXi       75.333333\n",
      "LiaoNing      78.442029\n",
      "ShanDong      68.000000\n",
      "ShanXi        73.000000\n",
      "ShangHai      83.666667\n",
      "SiChuan       75.500000\n",
      "TianJin       86.000000\n",
      "XiZang        93.000000\n",
      "XinJiang      87.000000\n",
      "YunNan        81.333333\n"
     ]
    }
   ],
   "source": [
    "sex_grouped = stu.groupby(['性别'])\n",
    "sex_counts = sex_grouped.count()\n",
    "sex_mean = stu.groupby(['性别']).aggregate( {'成绩':np.mean } )\n",
    "print(sex_counts, '\\n', sex_mean)\n",
    "pro_counts = stu.groupby(['省份']).count()\n",
    "pro_mean = stu.groupby(['省份']).aggregate( {'成绩':np.mean } )\n",
    "print(pro_counts, '\\n', pro_mean)"
   ]
  },
  {
   "cell_type": "code",
   "execution_count": 14,
   "metadata": {
    "collapsed": false
   },
   "outputs": [
    {
     "name": "stdout",
     "output_type": "stream",
     "text": [
      "0.25    18.609210\n",
      "0.50    20.450285\n",
      "0.75    23.431521\n",
      "Name: BMI, dtype: float64\n",
      "BMI>28 肥胖人数: 1\n"
     ]
    }
   ],
   "source": [
    "stu['BMI'] = stu['体重'] / ( np.square(stu['身高']/100) )\n",
    "print( stu['BMI'].quantile( [.25,0.5,.75] ) )\n",
    "print('BMI>28 肥胖人数:',  (stu['BMI']>=28 ).sum() ) "
   ]
  },
  {
   "cell_type": "code",
   "execution_count": null,
   "metadata": {
    "collapsed": true
   },
   "outputs": [],
   "source": []
  }
 ],
 "metadata": {
  "kernelspec": {
   "display_name": "Python 3",
   "language": "python",
   "name": "python3"
  },
  "language_info": {
   "codemirror_mode": {
    "name": "ipython",
    "version": 3
   },
   "file_extension": ".py",
   "mimetype": "text/x-python",
   "name": "python",
   "nbconvert_exporter": "python",
   "pygments_lexer": "ipython3",
   "version": "3.6.0"
  }
 },
 "nbformat": 4,
 "nbformat_minor": 2
}
