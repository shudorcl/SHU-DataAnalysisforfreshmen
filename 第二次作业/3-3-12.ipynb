{
 "cells": [
  {
   "cell_type": "markdown",
   "metadata": {},
   "source": [
    "# 3-3-12"
   ]
  },
  {
   "cell_type": "code",
   "execution_count": 6,
   "metadata": {
    "collapsed": true
   },
   "outputs": [],
   "source": [
    "import pandas as pd\n",
    "import numpy as np\n",
    "from pandas import Series, DataFrame"
   ]
  },
  {
   "cell_type": "code",
   "execution_count": 7,
   "metadata": {
    "collapsed": false
   },
   "outputs": [
    {
     "data": {
      "text/html": [
       "<div>\n",
       "<table border=\"1\" class=\"dataframe\">\n",
       "  <thead>\n",
       "    <tr style=\"text-align: right;\">\n",
       "      <th></th>\n",
       "      <th>ID</th>\n",
       "      <th>刷卡地点</th>\n",
       "      <th>刷卡时间</th>\n",
       "      <th>消费金额</th>\n",
       "    </tr>\n",
       "  </thead>\n",
       "  <tbody>\n",
       "    <tr>\n",
       "      <th>0</th>\n",
       "      <td>202003101</td>\n",
       "      <td>一食堂</td>\n",
       "      <td>20180305 1145</td>\n",
       "      <td>14.2</td>\n",
       "    </tr>\n",
       "    <tr>\n",
       "      <th>1</th>\n",
       "      <td>104574</td>\n",
       "      <td>教育超市</td>\n",
       "      <td>20180307 1730</td>\n",
       "      <td>25.2</td>\n",
       "    </tr>\n",
       "    <tr>\n",
       "      <th>2</th>\n",
       "      <td>202003103</td>\n",
       "      <td>图书馆</td>\n",
       "      <td>20180311 1823</td>\n",
       "      <td>NaN</td>\n",
       "    </tr>\n",
       "    <tr>\n",
       "      <th>3</th>\n",
       "      <td>202005116</td>\n",
       "      <td>图书馆</td>\n",
       "      <td>20180312 0832</td>\n",
       "      <td>NaN</td>\n",
       "    </tr>\n",
       "    <tr>\n",
       "      <th>4</th>\n",
       "      <td>202005114</td>\n",
       "      <td>二食堂</td>\n",
       "      <td>20180312 1708</td>\n",
       "      <td>12.5</td>\n",
       "    </tr>\n",
       "    <tr>\n",
       "      <th>5</th>\n",
       "      <td>202003101</td>\n",
       "      <td>图书馆</td>\n",
       "      <td>20180314 1345</td>\n",
       "      <td>NaN</td>\n",
       "    </tr>\n",
       "  </tbody>\n",
       "</table>\n",
       "</div>"
      ],
      "text/plain": [
       "          ID  刷卡地点           刷卡时间  消费金额\n",
       "0  202003101   一食堂  20180305 1145  14.2\n",
       "1     104574  教育超市  20180307 1730  25.2\n",
       "2  202003103   图书馆  20180311 1823   NaN\n",
       "3  202005116   图书馆  20180312 0832   NaN\n",
       "4  202005114   二食堂  20180312 1708  12.5\n",
       "5  202003101   图书馆  20180314 1345   NaN"
      ]
     },
     "execution_count": 7,
     "metadata": {},
     "output_type": "execute_result"
    }
   ],
   "source": [
    "cardcol = ['ID','刷卡地点','刷卡时间','消费金额']\n",
    "data3 = [ ['202003101','一食堂','20180305 1145',14.2], ['104574','教育超市','20180307 1730',25.2],['202003103','图书馆','20180311 1823'],['202005116','图书馆','20180312 0832'],['202005114','二食堂','20180312 1708',12.5],['202003101','图书馆','20180314 1345']]\n",
    "card = DataFrame( data3, columns=cardcol )\n",
    "card"
   ]
  },
  {
   "cell_type": "code",
   "execution_count": 8,
   "metadata": {
    "collapsed": false
   },
   "outputs": [
    {
     "data": {
      "text/html": [
       "<div>\n",
       "<table border=\"1\" class=\"dataframe\">\n",
       "  <thead>\n",
       "    <tr style=\"text-align: right;\">\n",
       "      <th></th>\n",
       "      <th>学号</th>\n",
       "      <th>姓名</th>\n",
       "      <th>专业</th>\n",
       "      <th>ID</th>\n",
       "      <th>刷卡地点</th>\n",
       "      <th>刷卡时间</th>\n",
       "      <th>消费金额</th>\n",
       "    </tr>\n",
       "  </thead>\n",
       "  <tbody>\n",
       "    <tr>\n",
       "      <th>0</th>\n",
       "      <td>202003101</td>\n",
       "      <td>赵成</td>\n",
       "      <td>软件工程</td>\n",
       "      <td>202003101</td>\n",
       "      <td>一食堂</td>\n",
       "      <td>20180305 1145</td>\n",
       "      <td>14.2</td>\n",
       "    </tr>\n",
       "    <tr>\n",
       "      <th>1</th>\n",
       "      <td>202003101</td>\n",
       "      <td>赵成</td>\n",
       "      <td>软件工程</td>\n",
       "      <td>202003101</td>\n",
       "      <td>图书馆</td>\n",
       "      <td>20180314 1345</td>\n",
       "      <td>NaN</td>\n",
       "    </tr>\n",
       "    <tr>\n",
       "      <th>2</th>\n",
       "      <td>202005114</td>\n",
       "      <td>李斌丽</td>\n",
       "      <td>机械制造</td>\n",
       "      <td>202005114</td>\n",
       "      <td>二食堂</td>\n",
       "      <td>20180312 1708</td>\n",
       "      <td>12.5</td>\n",
       "    </tr>\n",
       "    <tr>\n",
       "      <th>3</th>\n",
       "      <td>202009111</td>\n",
       "      <td>孙武一</td>\n",
       "      <td>工业设计</td>\n",
       "      <td>NaN</td>\n",
       "      <td>NaN</td>\n",
       "      <td>NaN</td>\n",
       "      <td>NaN</td>\n",
       "    </tr>\n",
       "    <tr>\n",
       "      <th>4</th>\n",
       "      <td>202003103</td>\n",
       "      <td>王芳</td>\n",
       "      <td>软件工程</td>\n",
       "      <td>202003103</td>\n",
       "      <td>图书馆</td>\n",
       "      <td>20180311 1823</td>\n",
       "      <td>NaN</td>\n",
       "    </tr>\n",
       "    <tr>\n",
       "      <th>5</th>\n",
       "      <td>202005116</td>\n",
       "      <td>袁一凡</td>\n",
       "      <td>工业设计</td>\n",
       "      <td>202005116</td>\n",
       "      <td>图书馆</td>\n",
       "      <td>20180312 0832</td>\n",
       "      <td>NaN</td>\n",
       "    </tr>\n",
       "  </tbody>\n",
       "</table>\n",
       "</div>"
      ],
      "text/plain": [
       "          学号   姓名    专业         ID 刷卡地点           刷卡时间  消费金额\n",
       "0  202003101   赵成  软件工程  202003101  一食堂  20180305 1145  14.2\n",
       "1  202003101   赵成  软件工程  202003101  图书馆  20180314 1345   NaN\n",
       "2  202005114  李斌丽  机械制造  202005114  二食堂  20180312 1708  12.5\n",
       "3  202009111  孙武一  工业设计        NaN  NaN            NaN   NaN\n",
       "4  202003103   王芳  软件工程  202003103  图书馆  20180311 1823   NaN\n",
       "5  202005116  袁一凡  工业设计  202005116  图书馆  20180312 0832   NaN"
      ]
     },
     "execution_count": 8,
     "metadata": {},
     "output_type": "execute_result"
    }
   ],
   "source": [
    "colName = ['学号', '姓名', '专业' ]\n",
    "data1 = [ ['202003101','赵成','软件工程'], ['202005114','李斌丽','机械制造'], ['202009111','孙武一','工业设计'] ]\n",
    "stu1 = DataFrame( data1, columns=colName )\n",
    "data2 = [ ['202003103','王芳','软件工程'], ['202005116','袁一凡','工业设计'] ]\n",
    "stu2 = DataFrame( data2, columns=colName )\n",
    "newstu = pd.concat([stu1,stu2], axis=0)\n",
    "pd.merge(newstu,card, how='left',left_on='学号',right_on='ID')"
   ]
  }
 ],
 "metadata": {
  "kernelspec": {
   "display_name": "Python 3",
   "language": "python",
   "name": "python3"
  },
  "language_info": {
   "codemirror_mode": {
    "name": "ipython",
    "version": 3
   },
   "file_extension": ".py",
   "mimetype": "text/x-python",
   "name": "python",
   "nbconvert_exporter": "python",
   "pygments_lexer": "ipython3",
   "version": "3.6.0"
  }
 },
 "nbformat": 4,
 "nbformat_minor": 2
}
