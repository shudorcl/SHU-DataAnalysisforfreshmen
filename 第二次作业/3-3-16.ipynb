{
 "cells": [
  {
   "cell_type": "markdown",
   "metadata": {},
   "source": [
    "# 3-3-16"
   ]
  },
  {
   "cell_type": "code",
   "execution_count": 1,
   "metadata": {
    "collapsed": false
   },
   "outputs": [
    {
     "data": {
      "text/html": [
       "<div>\n",
       "<table border=\"1\" class=\"dataframe\">\n",
       "  <thead>\n",
       "    <tr style=\"text-align: right;\">\n",
       "      <th></th>\n",
       "      <th>性别</th>\n",
       "      <th>年龄</th>\n",
       "      <th>身高</th>\n",
       "      <th>体重</th>\n",
       "      <th>省份</th>\n",
       "      <th>成绩</th>\n",
       "      <th>月生活费</th>\n",
       "      <th>课程兴趣</th>\n",
       "      <th>案例教学</th>\n",
       "    </tr>\n",
       "    <tr>\n",
       "      <th>序号</th>\n",
       "      <th></th>\n",
       "      <th></th>\n",
       "      <th></th>\n",
       "      <th></th>\n",
       "      <th></th>\n",
       "      <th></th>\n",
       "      <th></th>\n",
       "      <th></th>\n",
       "      <th></th>\n",
       "    </tr>\n",
       "  </thead>\n",
       "  <tbody>\n",
       "    <tr>\n",
       "      <th>21</th>\n",
       "      <td>female</td>\n",
       "      <td>21</td>\n",
       "      <td>165</td>\n",
       "      <td>45</td>\n",
       "      <td>ShangHai</td>\n",
       "      <td>93</td>\n",
       "      <td>1200</td>\n",
       "      <td>5</td>\n",
       "      <td>5</td>\n",
       "    </tr>\n",
       "    <tr>\n",
       "      <th>22</th>\n",
       "      <td>female</td>\n",
       "      <td>19</td>\n",
       "      <td>167</td>\n",
       "      <td>42</td>\n",
       "      <td>HuBei</td>\n",
       "      <td>89</td>\n",
       "      <td>800</td>\n",
       "      <td>5</td>\n",
       "      <td>5</td>\n",
       "    </tr>\n",
       "    <tr>\n",
       "      <th>23</th>\n",
       "      <td>male</td>\n",
       "      <td>21</td>\n",
       "      <td>169</td>\n",
       "      <td>80</td>\n",
       "      <td>GanSu</td>\n",
       "      <td>93</td>\n",
       "      <td>900</td>\n",
       "      <td>5</td>\n",
       "      <td>5</td>\n",
       "    </tr>\n",
       "    <tr>\n",
       "      <th>24</th>\n",
       "      <td>female</td>\n",
       "      <td>21</td>\n",
       "      <td>160</td>\n",
       "      <td>49</td>\n",
       "      <td>HeBei</td>\n",
       "      <td>59</td>\n",
       "      <td>1100</td>\n",
       "      <td>3</td>\n",
       "      <td>5</td>\n",
       "    </tr>\n",
       "    <tr>\n",
       "      <th>25</th>\n",
       "      <td>female</td>\n",
       "      <td>21</td>\n",
       "      <td>162</td>\n",
       "      <td>54</td>\n",
       "      <td>GanSu</td>\n",
       "      <td>68</td>\n",
       "      <td>1300</td>\n",
       "      <td>4</td>\n",
       "      <td>5</td>\n",
       "    </tr>\n",
       "    <tr>\n",
       "      <th>26</th>\n",
       "      <td>male</td>\n",
       "      <td>21</td>\n",
       "      <td>181</td>\n",
       "      <td>77</td>\n",
       "      <td>SiChuan</td>\n",
       "      <td>62</td>\n",
       "      <td>800</td>\n",
       "      <td>2</td>\n",
       "      <td>5</td>\n",
       "    </tr>\n",
       "    <tr>\n",
       "      <th>27</th>\n",
       "      <td>female</td>\n",
       "      <td>21</td>\n",
       "      <td>162</td>\n",
       "      <td>49</td>\n",
       "      <td>ShanDong</td>\n",
       "      <td>65</td>\n",
       "      <td>950</td>\n",
       "      <td>4</td>\n",
       "      <td>4</td>\n",
       "    </tr>\n",
       "    <tr>\n",
       "      <th>28</th>\n",
       "      <td>female</td>\n",
       "      <td>22</td>\n",
       "      <td>160</td>\n",
       "      <td>52</td>\n",
       "      <td>ShanXi</td>\n",
       "      <td>73</td>\n",
       "      <td>800</td>\n",
       "      <td>3</td>\n",
       "      <td>4</td>\n",
       "    </tr>\n",
       "    <tr>\n",
       "      <th>29</th>\n",
       "      <td>female</td>\n",
       "      <td>20</td>\n",
       "      <td>161</td>\n",
       "      <td>51</td>\n",
       "      <td>GuangXi</td>\n",
       "      <td>80</td>\n",
       "      <td>1250</td>\n",
       "      <td>5</td>\n",
       "      <td>5</td>\n",
       "    </tr>\n",
       "    <tr>\n",
       "      <th>30</th>\n",
       "      <td>female</td>\n",
       "      <td>20</td>\n",
       "      <td>168</td>\n",
       "      <td>52</td>\n",
       "      <td>JiangSu</td>\n",
       "      <td>98</td>\n",
       "      <td>700</td>\n",
       "      <td>5</td>\n",
       "      <td>5</td>\n",
       "    </tr>\n",
       "  </tbody>\n",
       "</table>\n",
       "</div>"
      ],
      "text/plain": [
       "        性别  年龄   身高  体重        省份  成绩  月生活费  课程兴趣  案例教学\n",
       "序号                                                     \n",
       "21  female  21  165  45  ShangHai  93  1200     5     5\n",
       "22  female  19  167  42     HuBei  89   800     5     5\n",
       "23    male  21  169  80     GanSu  93   900     5     5\n",
       "24  female  21  160  49     HeBei  59  1100     3     5\n",
       "25  female  21  162  54     GanSu  68  1300     4     5\n",
       "26    male  21  181  77   SiChuan  62   800     2     5\n",
       "27  female  21  162  49  ShanDong  65   950     4     4\n",
       "28  female  22  160  52    ShanXi  73   800     3     4\n",
       "29  female  20  161  51   GuangXi  80  1250     5     5\n",
       "30  female  20  168  52   JiangSu  98   700     5     5"
      ]
     },
     "execution_count": 1,
     "metadata": {},
     "output_type": "execute_result"
    }
   ],
   "source": [
    "import pandas as pd\n",
    "import numpy as np\n",
    "from pandas import Series, DataFrame\n",
    "stu=pd.read_excel('studentsInfo.xlsx','Group3',index_col=0)\n",
    "stu"
   ]
  },
  {
   "cell_type": "code",
   "execution_count": 5,
   "metadata": {
    "collapsed": false
   },
   "outputs": [
    {
     "data": {
      "text/plain": [
       "78.0"
      ]
     },
     "execution_count": 5,
     "metadata": {},
     "output_type": "execute_result"
    }
   ],
   "source": [
    "stu['成绩'].mean()"
   ]
  },
  {
   "cell_type": "code",
   "execution_count": 8,
   "metadata": {
    "collapsed": false
   },
   "outputs": [
    {
     "data": {
      "text/plain": [
       "0.25     800.0\n",
       "0.75    1175.0\n",
       "Name: 月生活费, dtype: float64"
      ]
     },
     "execution_count": 8,
     "metadata": {},
     "output_type": "execute_result"
    }
   ],
   "source": [
    "stu['月生活费'].quantile([.25,.75])"
   ]
  },
  {
   "cell_type": "code",
   "execution_count": 11,
   "metadata": {
    "collapsed": false
   },
   "outputs": [
    {
     "data": {
      "text/html": [
       "<div>\n",
       "<table border=\"1\" class=\"dataframe\">\n",
       "  <thead>\n",
       "    <tr style=\"text-align: right;\">\n",
       "      <th></th>\n",
       "      <th>身高</th>\n",
       "      <th>体重</th>\n",
       "      <th>成绩</th>\n",
       "    </tr>\n",
       "  </thead>\n",
       "  <tbody>\n",
       "    <tr>\n",
       "      <th>count</th>\n",
       "      <td>10.000000</td>\n",
       "      <td>10.0000</td>\n",
       "      <td>10.000000</td>\n",
       "    </tr>\n",
       "    <tr>\n",
       "      <th>mean</th>\n",
       "      <td>165.500000</td>\n",
       "      <td>55.1000</td>\n",
       "      <td>78.000000</td>\n",
       "    </tr>\n",
       "    <tr>\n",
       "      <th>std</th>\n",
       "      <td>6.381397</td>\n",
       "      <td>12.8448</td>\n",
       "      <td>14.476034</td>\n",
       "    </tr>\n",
       "    <tr>\n",
       "      <th>min</th>\n",
       "      <td>160.000000</td>\n",
       "      <td>42.0000</td>\n",
       "      <td>59.000000</td>\n",
       "    </tr>\n",
       "    <tr>\n",
       "      <th>25%</th>\n",
       "      <td>161.250000</td>\n",
       "      <td>49.0000</td>\n",
       "      <td>65.750000</td>\n",
       "    </tr>\n",
       "    <tr>\n",
       "      <th>50%</th>\n",
       "      <td>163.500000</td>\n",
       "      <td>51.5000</td>\n",
       "      <td>76.500000</td>\n",
       "    </tr>\n",
       "    <tr>\n",
       "      <th>75%</th>\n",
       "      <td>167.750000</td>\n",
       "      <td>53.5000</td>\n",
       "      <td>92.000000</td>\n",
       "    </tr>\n",
       "    <tr>\n",
       "      <th>max</th>\n",
       "      <td>181.000000</td>\n",
       "      <td>80.0000</td>\n",
       "      <td>98.000000</td>\n",
       "    </tr>\n",
       "  </tbody>\n",
       "</table>\n",
       "</div>"
      ],
      "text/plain": [
       "               身高       体重         成绩\n",
       "count   10.000000  10.0000  10.000000\n",
       "mean   165.500000  55.1000  78.000000\n",
       "std      6.381397  12.8448  14.476034\n",
       "min    160.000000  42.0000  59.000000\n",
       "25%    161.250000  49.0000  65.750000\n",
       "50%    163.500000  51.5000  76.500000\n",
       "75%    167.750000  53.5000  92.000000\n",
       "max    181.000000  80.0000  98.000000"
      ]
     },
     "execution_count": 11,
     "metadata": {},
     "output_type": "execute_result"
    }
   ],
   "source": [
    "stu[['身高','体重','成绩']].describe()"
   ]
  },
  {
   "cell_type": "code",
   "execution_count": null,
   "metadata": {
    "collapsed": true
   },
   "outputs": [],
   "source": []
  }
 ],
 "metadata": {
  "kernelspec": {
   "display_name": "Python 3",
   "language": "python",
   "name": "python3"
  },
  "language_info": {
   "codemirror_mode": {
    "name": "ipython",
    "version": 3
   },
   "file_extension": ".py",
   "mimetype": "text/x-python",
   "name": "python",
   "nbconvert_exporter": "python",
   "pygments_lexer": "ipython3",
   "version": "3.6.0"
  }
 },
 "nbformat": 4,
 "nbformat_minor": 2
}
